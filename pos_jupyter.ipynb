{
 "cells": [
  {
   "cell_type": "code",
   "execution_count": 1,
   "metadata": {},
   "outputs": [],
   "source": [
    "from jupyter_dash import JupyterDash \n",
    "import dash_core_components as dcc \n",
    "import dash_html_components as html \n",
    "import plotly.express as px \n",
    "import pandas as pd\n",
    "\n",
    "\n",
    "from dash.dependencies import Input, Output"
   ]
  },
  {
   "cell_type": "code",
   "execution_count": 2,
   "metadata": {},
   "outputs": [],
   "source": [
    "def read_posdata(path):\n",
    "    df = pd.read_table(path, encoding='utf-16', header=[1,2,3,4,5])\n",
    "    df = df.melt(id_vars=[df.columns[0]])\n",
    "    df.columns = ['date', 'area', 'store', 'huge', 'mid', 'type', 'value']\n",
    "    return df"
   ]
  },
  {
   "cell_type": "code",
   "execution_count": 3,
   "metadata": {},
   "outputs": [],
   "source": [
    "df = read_posdata('data/pos_data_0706.csv')"
   ]
  },
  {
   "cell_type": "code",
   "execution_count": 4,
   "metadata": {},
   "outputs": [
    {
     "data": {
      "text/plain": [
       "array(['00_大分類計', '10_食品', '20_飲料', '30_雑貨', '40_化粧品', '50_ヘルスケア',\n",
       "       '60_その他'], dtype=object)"
      ]
     },
     "execution_count": 4,
     "metadata": {},
     "output_type": "execute_result"
    }
   ],
   "source": [
    "dff = df[df['area'] == '00_全国']\n",
    "dfff = dff[dff['store'] == '01_スーパーマーケット']\n",
    "dfff.huge.unique()"
   ]
  },
  {
   "cell_type": "code",
   "execution_count": 5,
   "metadata": {},
   "outputs": [
    {
     "data": {
      "text/plain": [
       "Index(['date', 'area', 'store', 'huge', 'mid', 'type', 'value'], dtype='object')"
      ]
     },
     "execution_count": 5,
     "metadata": {},
     "output_type": "execute_result"
    }
   ],
   "source": [
    "df.columns"
   ]
  },
  {
   "cell_type": "code",
   "execution_count": 6,
   "metadata": {},
   "outputs": [],
   "source": [
    "app = JupyterDash(__name__)\n",
    "app.config.suppress_callback_exceptions = True\n",
    "\n",
    "app.layout = html.Div([\n",
    "    \n",
    "    dcc.RadioItems(\n",
    "        id = 'my_radio',\n",
    "        options = [{\"label\": t, \"value\": t} for t in df.type.unique()],\n",
    "        value = '販売金額指数'\n",
    "    ),\n",
    "    \n",
    "    html.Div(id='my_body',\n",
    "        \n",
    "\n",
    "    )\n",
    "    \n",
    "])\n",
    "\n",
    "@app.callback(Output('my_body', 'children'), [Input('my_radio', 'value')])\n",
    "def update_body(selected_value):\n",
    "    if selected_value == '前年比（％）':\n",
    "        \n",
    "        return html.Div()\n",
    "    \n",
    "    else:\n",
    "        index_body = html.Div([\n",
    "            \n",
    "            dcc.Dropdown(\n",
    "                id='drop_one',\n",
    "                options=[{'label': a, 'value': a} for a in df.area.unique()],\n",
    "                value=df.area.unique()[0]\n",
    "                    ),\n",
    "            dcc.Dropdown(id='drop_two'),\n",
    "            dcc.Dropdown(id='drop_thr'),\n",
    "            dcc.Dropdown(id='drop_four'),\n",
    "            dcc.Graph(id='my_graph')\n",
    "            \n",
    "        ])\n",
    "        \n",
    "        \n",
    "        return index_body\n",
    "    \n",
    "@app.callback([Output('drop_two', 'options'), \n",
    "               Output('drop_two', 'value')],\n",
    "               [Input('drop_one', 'value')])\n",
    "def update_drop_two(selected_value):\n",
    "    df1 = df[df['area'] == selected_value]\n",
    "    \n",
    "    return [{'label': st, 'value': st} for st in df1['store'].unique()], df1['store'].unique()[0]\n",
    "\n",
    "@app.callback([Output('drop_thr', 'options'),\n",
    "              Output('drop_thr', 'value')],\n",
    "              [Input('drop_two', 'value')]\n",
    "             )\n",
    "def update_drop_three(selected_value):\n",
    "    df1 = df[df['store'] == selected_value]\n",
    "    \n",
    "    return [{'label': h, 'value': h} for h in df1['huge'].unique()], df1['huge'].unique()[0]\n",
    "\n",
    "@app.callback([Output('drop_four', 'options'),\n",
    "              Output('drop_four', 'value'),\n",
    "              Output('drop_four', 'multi')\n",
    "              ],\n",
    "             [Input('drop_thr', 'value')]\n",
    "             )\n",
    "def update_drop_four(selected_value):\n",
    "    df1 = df[df['huge'] == selected_value]\n",
    "    \n",
    "    return [{'label': h, 'value': h} for h in df1['mid'].unique()], [df1['mid'].unique()[0]], True\n",
    "\n",
    "@app.callback(Output('my_graph', 'figure'), \n",
    "              [Input('drop_one', 'value'),\n",
    "               Input('drop_two', 'value'),\n",
    "               Input('drop_thr', 'value'),\n",
    "               Input('drop_four', 'value'),\n",
    "              Input('my_radio', 'value')\n",
    "              ])\n",
    "def update_graph(selected_one, selected_two, selected_three, selected_four, radio_value):\n",
    "    df1 = df[df['area'] == selected_one]\n",
    "    df2 = df1[df1['store'] == selected_two]\n",
    "    df3 = df2[df2['huge'] == selected_three]\n",
    "    df4 = df3[df3['type'] == radio_value]\n",
    "    df5 = df4[df4['mid'].isin(selected_four)]\n",
    "    \n",
    "    return px.line(df5, x='date', y='value', color='mid')\n"
   ]
  },
  {
   "cell_type": "code",
   "execution_count": 7,
   "metadata": {},
   "outputs": [],
   "source": [
    "app.run_server(mode='jupyterlab')"
   ]
  },
  {
   "cell_type": "code",
   "execution_count": null,
   "metadata": {},
   "outputs": [],
   "source": []
  }
 ],
 "metadata": {
  "kernelspec": {
   "display_name": "Python 3",
   "language": "python",
   "name": "python3"
  },
  "language_info": {
   "codemirror_mode": {
    "name": "ipython",
    "version": 3
   },
   "file_extension": ".py",
   "mimetype": "text/x-python",
   "name": "python",
   "nbconvert_exporter": "python",
   "pygments_lexer": "ipython3",
   "version": "3.8.3"
  }
 },
 "nbformat": 4,
 "nbformat_minor": 4
}
